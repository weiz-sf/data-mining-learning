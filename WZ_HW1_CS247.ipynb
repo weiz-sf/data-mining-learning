{
  "nbformat": 4,
  "nbformat_minor": 0,
  "metadata": {
    "kernelspec": {
      "display_name": "Python 3",
      "language": "python",
      "name": "python3"
    },
    "language_info": {
      "codemirror_mode": {
        "name": "ipython",
        "version": 3
      },
      "file_extension": ".py",
      "mimetype": "text/x-python",
      "name": "python",
      "nbconvert_exporter": "python",
      "pygments_lexer": "ipython3",
      "version": "3.6.3"
    },
    "colab": {
      "name": "WZ HW1 CS247.ipynb",
      "provenance": []
    }
  },
  "cells": [
    {
      "cell_type": "markdown",
      "metadata": {
        "id": "AgWLSd6-KDmY"
      },
      "source": [
        "#  CS 247 : Advanced Data Mining Learning\n",
        "## Homework 1\n",
        "\n",
        "### Due: 11:59 pm 04/08\n",
        "\n",
        "##### Please read the Homework Guidance (uploaded to CCLE) carefully and make sure you fulfill all the requirements.\n",
        "\n",
        "__Name__: [Wei Zhou]\n",
        "\n",
        "__UID__: [505650843]\n",
        "\n"
      ]
    },
    {
      "cell_type": "markdown",
      "metadata": {
        "id": "aORbDsQHKDmf"
      },
      "source": [
        "## Problem 1: Multinomial Naive Bayes (20 pts)\n",
        "\n",
        "Consider the Multinomial Naive Bayes introduced in lecture 02 - Probabilistic Classifiers (please refer to page 14-22). Show the derivation process to obtain the solution of the MLE estimator β. Please use the same notations as in the lecture slides.\n",
        "\n",
        "__Hint__: The solution of β is given on slide P21."
      ]
    },
    {
      "cell_type": "markdown",
      "metadata": {
        "id": "8-gnMwd1KDmg"
      },
      "source": [
        "#### Write Your answer here:"
      ]
    },
    {
      "cell_type": "markdown",
      "metadata": {
        "id": "MBewBe7iZU1S"
      },
      "source": [
        ""
      ]
    },
    {
      "cell_type": "markdown",
      "metadata": {
        "id": "c5ziJhLKKDmg"
      },
      "source": [
        "https://drive.google.com/file/d/1luccwa0LfOlVofZC-6BEj36nPV7d7YhO/view?usp=sharing\n",
        "\n",
        "the image upload does not work well with large files. \n",
        "\n",
        "Here's the answer png"
      ]
    },
    {
      "cell_type": "markdown",
      "metadata": {
        "id": "WwhEmNklKDmh"
      },
      "source": [
        "## Problem 2: Sentimate Classification (80 pts)\n",
        "\n",
        "In this problem, you are going to apply the multinomial naive bayes method learned in the lecture on a real-world sentiment classification dataset. \n",
        "\n",
        "We've provided a general framework for you, please fill all the ''TODO'' slots."
      ]
    },
    {
      "cell_type": "markdown",
      "metadata": {
        "id": "oE3EorDgKDmi"
      },
      "source": [
        "### Part 1: Sklearn Implementation (10 pts)\n",
        "\n",
        "In this part, you are going to work on the sentimate classification task using the multinomial naive bayes function __MultinomialNB__ implemented in the sklearn package. We've provided the data processing parts, please implememt the code for training and testing, and get the probability result using ***pred_proba*** and ***pred_log_proba***.\n",
        "\n",
        "\n",
        "__Hint__: \n",
        "\n",
        "1. You can refer to https://scikit-learn.org/stable/modules/generated/sklearn.naive_bayes.MultinomialNB.html to get familiar with sklearn MultinomialNB function.\n",
        "\n",
        "2. To get the predicted results, instead of directly using the ***predict*** function in MultinomialNB, please use <u>***np.argmax(..., axis=1)***</u>, and the ... part should be the probability result obtained from ***pred_proba*** or ***pred_log_proba***.\n"
      ]
    },
    {
      "cell_type": "code",
      "metadata": {
        "colab": {
          "base_uri": "https://localhost:8080/"
        },
        "id": "yumEkA9PKDmi",
        "outputId": "28d4ca2a-dbef-40de-f1eb-c34e1431ecb5"
      },
      "source": [
        "# load dataset, split train and test \n",
        "\n",
        "from sklearn.datasets import fetch_20newsgroups\n",
        "\n",
        "categories = ['alt.atheism', 'soc.religion.christian',  'comp.graphics', 'sci.med']\n",
        "twenty_train = fetch_20newsgroups(subset='train', categories=categories, shuffle=True, random_state=42)\n",
        "twenty_test  = fetch_20newsgroups(subset='test',  categories=categories, shuffle=True, random_state=42)"
      ],
      "execution_count": null,
      "outputs": [
        {
          "output_type": "stream",
          "text": [
            "Downloading 20news dataset. This may take a few minutes.\n",
            "Downloading dataset from https://ndownloader.figshare.com/files/5975967 (14 MB)\n"
          ],
          "name": "stderr"
        }
      ]
    },
    {
      "cell_type": "code",
      "metadata": {
        "id": "Jwn3X-1zKDmj"
      },
      "source": [
        "# data processing, turn the loaded data into array\n",
        "\n",
        "from sklearn.feature_extraction.text import TfidfTransformer, CountVectorizer\n",
        "\n",
        "count_vect = CountVectorizer().fit(twenty_train['data'] + twenty_test['data']) \n",
        "X_train_feature = count_vect.transform(twenty_train['data']).toarray()\n",
        "X_test_feature  = count_vect.transform(twenty_test['data']).toarray()"
      ],
      "execution_count": null,
      "outputs": []
    },
    {
      "cell_type": "code",
      "metadata": {
        "colab": {
          "base_uri": "https://localhost:8080/"
        },
        "id": "3Qb4flv2KDmj",
        "outputId": "e22b1bce-1911-450a-a333-1a5df0a22681"
      },
      "source": [
        "# train and test with MultinomialNB\n",
        "\n",
        "from sklearn.naive_bayes import MultinomialNB\n",
        "import numpy as np\n",
        "\n",
        "###TO DO: \n",
        "''' \n",
        "    Please implement train and test using sklearn MultinomialNB.\n",
        "    You are expected to get the probability result using \"pred_proba\" and \"pred_log_proba\".'''\n",
        "sk_model = MultinomialNB()\n",
        "sk_model = sk_model.fit(X_train_feature, twenty_train.target)\n",
        "\n",
        "sk_proba_preds = np.argmax(sk_model.predict_proba(X_test_feature), axis=1)\n",
        "sk_log_proba_preds= np.argmax(sk_model.predict_log_proba(X_test_feature), axis=1)\n",
        "\n",
        "print(sk_proba_preds)\n",
        "print(sk_log_proba_preds)"
      ],
      "execution_count": null,
      "outputs": [
        {
          "output_type": "stream",
          "text": [
            "[2 2 2 ... 2 2 1]\n",
            "[2 2 2 ... 2 2 1]\n"
          ],
          "name": "stdout"
        }
      ]
    },
    {
      "cell_type": "markdown",
      "metadata": {
        "id": "nOD9-cHGKDmj"
      },
      "source": [
        "### Part 2: Your Multinomial Naive Bayes Implementation (50 pts = 15 + 15 + 15 + 5)\n",
        "\n",
        "In this part, you are going to implement multinomial naive bayes function by your self, then use your own multinomial naive bayes function to finish the sentimate classification task, and get the probability result using ***predict_proba_without_log*** and ***predict_proba_with_log***.\n",
        "\n",
        "Hint: Similar to Part 1, to get the predicted results, please use <u>***np.argmax(..., axis=1)***</u>, and the ... part should be the probability result obtained from ***predict_proba_without_log*** and ***predict_proba_with_log***.\n"
      ]
    },
    {
      "cell_type": "code",
      "metadata": {
        "id": "dP0vLnVhKDmk"
      },
      "source": [
        "# My Multinomial Naive Bayes Function\n",
        "\n",
        "class My_MultinomialNB():\n",
        "    \"\"\"\n",
        "    Multinomial Naive Bayes\n",
        "    ==========  \n",
        "    Parameters\n",
        "    ----------\n",
        "    alpha : float, optional (default=1.0)\n",
        "        Additive (Laplace/Lidstone) smoothing parameter\n",
        "        (0 for no smoothing).\n",
        "    \"\"\"\n",
        "\n",
        "    def __init__(self, alpha=1):\n",
        "        self.alpha = alpha\n",
        "        \n",
        "\n",
        "    def fit(self, X, y):\n",
        "#         Given feature X and label y, calculate beta and pi with a smoothing parameter alpha (laplace smoothing)\n",
        "        self.class_indicator = {}\n",
        "        for i, c in enumerate(np.unique(y)):\n",
        "            self.class_indicator[c] = i\n",
        "        self.n_class = len(self.class_indicator)\n",
        "        self.n_feats = np.shape(X)[1]\n",
        "        \n",
        "        self.beta    = np.zeros((self.n_class, self.n_feats))\n",
        "        self.pi      = np.zeros((self.n_class))\n",
        "        '''\n",
        "            TODO: \n",
        "            Please calculate self.beta and self.pi\n",
        "        '''\n",
        "        self.idx = [[] for _ in range(self.n_class)]\n",
        "        for i,c in self.class_indicator.items():\n",
        "            self.idx[i] = (y == c)\n",
        "            self.beta[i] = (np.sum(X[self.idx[i]],axis = 0) + self.alpha)/(np.sum(X[self.idx[i]]) + self.alpha)\n",
        "            self.pi[i] = self.idx[i].shape[0]/self.n_feats\n",
        "        \n",
        "        self.log_beta = np.log(self.beta)\n",
        "        self.log_pi   = np.log(self.pi)\n",
        "          \n",
        "    \n",
        "    def predict_proba_without_log(self, X):\n",
        "#         Given a test dataset with feature X, calculate the predicted probability of each data point\n",
        "        prob = np.zeros((len(X), self.n_class))\n",
        "                       \n",
        "        '''\n",
        "            TODO: \n",
        "            Calculate probability of which class each data belongs to, using self.beta and self.pi\n",
        "        '''\n",
        "        for i in range(len(X)):\n",
        "          for j in range(self.n_class):\n",
        "            prob[i,j] = np.prod(np.power(self.beta[j],X[i]))*self.pi[j]\n",
        "        return prob\n",
        "    \n",
        "    \n",
        "    def predict_proba_with_log(self, X):\n",
        "        log_prob = self.predict_log_proba_with_log(X)\n",
        "        return np.exp(log_prob - np.max(log_prob, axis=1).reshape(-1, 1))\n",
        "    \n",
        "    \n",
        "    def predict_log_proba_with_log(self, X):\n",
        "#         Given a test dataset with feature X, calculate the log probability of each data point\n",
        "        log_prob = np.zeros((len(X), self.n_class))\n",
        "        '''\n",
        "            TODO: \n",
        "            Calculate log-probability of which class each data belongs to, using self.log_beta and self.log_pi\n",
        "        '''\n",
        "        for i in range(len(X)):\n",
        "          for j in range(self.n_class):\n",
        "            log_prob [i,j] = np.sum(self.log_beta[j]*X[i]) + self.log_pi[j]\n",
        "        \n",
        "        return log_prob"
      ],
      "execution_count": null,
      "outputs": []
    },
    {
      "cell_type": "code",
      "metadata": {
        "colab": {
          "base_uri": "https://localhost:8080/"
        },
        "id": "FV-dfmigKDml",
        "outputId": "92d5cdbe-14f5-45ff-88cf-615b1946ae28"
      },
      "source": [
        "# train and test with My_MultinomialNB\n",
        "'''\n",
        "    TO DO: \n",
        "    Please implement train and test using My_MultinomialNB you implemented above.\n",
        "    You are expected to get the probability result using \"predict_proba_without_log\" and \"predict_proba_with_log\".\n",
        "    For this part, please use the default alpha value: alpha = 1.\n",
        "'''\n",
        "my_model= My_MultinomialNB()\n",
        "my_model.fit(X_train_feature,twenty_train.target)\n",
        "proba = my_model.predict_proba_without_log(X_test_feature)\n",
        "log_proba = my_model.predict_log_proba_with_log(X_test_feature)\n",
        "\n",
        "my_proba_preds =np.argmax(proba, axis=1)\n",
        "my_log_proba_preds =np.argmax(log_proba, axis=1)\n",
        "\n",
        "def accuracy(y_true, y_pred):\n",
        "    acc = np.equal(y_true, y_pred)\n",
        "    score = sum(acc)/len(acc) # calculate the percentage of the correctness\n",
        "    return score\n",
        "print(my_proba_preds)\n",
        "print(my_log_proba_preds)\n",
        "print (accuracy(twenty_test.target, my_proba_preds))\n",
        "print (accuracy(twenty_test.target, my_log_proba_preds))\n",
        "\n"
      ],
      "execution_count": null,
      "outputs": [
        {
          "output_type": "stream",
          "text": [
            "[0 0 0 ... 0 2 1]\n",
            "[2 2 2 ... 2 2 1]\n",
            "0.36950732356857524\n",
            "0.9320905459387483\n"
          ],
          "name": "stdout"
        }
      ]
    },
    {
      "cell_type": "markdown",
      "metadata": {
        "id": "KZ7V2IUzKDml"
      },
      "source": [
        "### Part 3: Complare sklearn MultinomialNB and your own My_MultinomialNB (10 pts = 1 + 1 + 1 + 1 + 2 + 4)"
      ]
    },
    {
      "cell_type": "markdown",
      "metadata": {
        "id": "ElEHxvGDKDmm"
      },
      "source": [
        "In part 1 and part 2, you've calculated the probability of test data using ***pred_proba*** and ***pred_log_proba***, and ***predict_proba_without_log*** and ***predict_proba_with_log***. \n",
        "\n",
        "Please answer:\n",
        "1. Compare the accuracy, are they same or not? \n",
        "2. If they are different, please try to explain the reason."
      ]
    },
    {
      "cell_type": "code",
      "metadata": {
        "colab": {
          "base_uri": "https://localhost:8080/"
        },
        "id": "TE574pEtKDmm",
        "outputId": "2c7de94c-65be-492b-ed80-08adf432e77c"
      },
      "source": [
        "def accuracy(y_true, y_pred):\n",
        "    acc = np.equal(y_true, y_pred)\n",
        "    score = sum(acc)/len(acc) # calculate the percentage of the correctness\n",
        "    return score\n",
        "\n",
        "# accuracy of sklearn MultinomialMB without log\n",
        "'''\n",
        "    TO DO: compute accuracy of sklearn MultinomialMB without log and print it out\n",
        "'''\n",
        "print (\"accuracy of sklearn MultinomialMB without log:\", accuracy(twenty_test.target, sk_proba_preds))\n",
        "\n",
        "\n",
        "\n",
        "# accuracy of My_MultinomialMB without log\n",
        "'''\n",
        "    TO DO: compute accuracy of My_MultinomialMB without log and print it out\n",
        "'''\n",
        "print (\"accuracy of My_MultinomialMB without log:\",accuracy(twenty_test.target, my_proba_preds))\n",
        "\n",
        "# accuracy of sklearn MultinomialMB with log\n",
        "'''\n",
        "    TO DO: compute accuracy of sklearn MultinomialMB with log and print it out\n",
        "'''\n",
        "\n",
        "print (\"accuracy of sklearn MultinomialMB with log:\",accuracy(twenty_test.target, sk_log_proba_preds))\n",
        "\n",
        "\n",
        "# accuracy of My_MultinomialMB with log \n",
        "'''\n",
        "    TO DO: compute accuracy of My_MultinomialMB with log and print it out\n",
        "'''\n",
        "print (\"accuracy of My_MultinomialMB with log:\",accuracy(twenty_test.target, my_log_proba_preds))"
      ],
      "execution_count": null,
      "outputs": [
        {
          "output_type": "stream",
          "text": [
            "accuracy of sklearn MultinomialMB without log: 0.9347536617842876\n",
            "accuracy of My_MultinomialMB without log: 0.36950732356857524\n",
            "accuracy of sklearn MultinomialMB with log: 0.9347536617842876\n",
            "accuracy of My_MultinomialMB with log: 0.9320905459387483\n"
          ],
          "name": "stdout"
        }
      ]
    },
    {
      "cell_type": "markdown",
      "metadata": {
        "id": "p-Qwtkl3KDmm"
      },
      "source": [
        "#### Write Your answer here:"
      ]
    },
    {
      "cell_type": "markdown",
      "metadata": {
        "id": "Rwnuy6N9KDmm"
      },
      "source": [
        "1. The sklearn MultinomialNB have identical accuracy for both with and without log; however, the implementation of My_MultinomialNB have different accuracy for with and without log. As a matter of fact, they're significantly different. Without log has a way lower accuracy, while the with log version has similar to sklearn accuracy. \n",
        "\n",
        "2. When we implement non-log ourselves, the return is most likely zero, since we are multiplying a very small value. Hence the probablity and prediction is very close to zero most of the them. Which will have likely bad prediction accuracy. It's an underflowing problem from the way we calculate it. "
      ]
    },
    {
      "cell_type": "markdown",
      "metadata": {
        "id": "_AhsVvLtKDmn"
      },
      "source": [
        "### Part 4: Tune alpha (10pts = 2 + 2 + 2 + 4)\n",
        "\n",
        "Now,  choose different laplacian smoothing parameter ***alpha***, including (0, 0.001, 0.01, 0.1, 1, 10, 100, 1000), show the accuracy of your model using ***pred_log_proba***. Plot the accuracy curve with different ***alpha*** using *matplotlib* package. \n",
        "    \n",
        "Please answer: \n",
        "1. What is the best ***alpha***? \n",
        "2. Please explain why when ***alpha*** = 0 and ***alpha*** = 1000, the performance is relatively worse than the best case.\n"
      ]
    },
    {
      "cell_type": "code",
      "metadata": {
        "colab": {
          "base_uri": "https://localhost:8080/"
        },
        "id": "fz6M3cdGKDmn",
        "outputId": "a8f2037e-2da7-4f91-c6dd-5d1621cb37c5"
      },
      "source": [
        "# for different alpha, print the accuracy of your model\n",
        "\n",
        "accs = []\n",
        "alpha_list = [0, 0.001, 0.1, 1, 10, 100, 1000, 10000]\n",
        "for alpha in alpha_list:\n",
        "    '''\n",
        "        TO DO: Train the model with different alpha, and get corresponding accuracy\n",
        "    '''\n",
        "    my_model= My_MultinomialNB(alpha)\n",
        "    my_model.fit(X_train_feature,twenty_train.target)\n",
        "    log_proba = my_model.predict_log_proba_with_log(X_test_feature)\n",
        "    my_log_proba_preds =np.argmax(log_proba, axis=1)\n",
        "    accs.append(accuracy(twenty_test.target,my_log_proba_preds))\n",
        "print(accs)"
      ],
      "execution_count": null,
      "outputs": [
        {
          "output_type": "stream",
          "text": [
            "/usr/local/lib/python3.7/dist-packages/ipykernel_launcher.py:41: RuntimeWarning: divide by zero encountered in log\n",
            "/usr/local/lib/python3.7/dist-packages/ipykernel_launcher.py:73: RuntimeWarning: invalid value encountered in multiply\n"
          ],
          "name": "stderr"
        },
        {
          "output_type": "stream",
          "text": [
            "[0.21238348868175766, 0.9447403462050599, 0.9513981358189081, 0.9320905459387483, 0.8462050599201065, 0.4440745672436751, 0.2589880159786951, 0.2589880159786951]\n"
          ],
          "name": "stdout"
        }
      ]
    },
    {
      "cell_type": "code",
      "metadata": {
        "colab": {
          "base_uri": "https://localhost:8080/",
          "height": 295
        },
        "id": "pV9d3etzKDmn",
        "outputId": "6279a897-f6aa-43ba-ab03-2463fe53296a"
      },
      "source": [
        "# Visualization: plot accuracy curve with different alpha\n",
        "\n",
        "import matplotlib.pyplot as plt\n",
        "\n",
        "'''\n",
        "    TO DO: plot accuracy curve with different alpha with matplotlib package\n",
        "'''\n",
        "plt.figure()\n",
        "plt.plot(alpha_list,accs)\n",
        "plt.xlabel(\"Alpha\")\n",
        "plt.ylabel(\"Accuracy\")\n",
        "plt.title(\"Accuracy Graph\")\n",
        "plt.show()"
      ],
      "execution_count": null,
      "outputs": [
        {
          "output_type": "display_data",
          "data": {
            "image/png": "[encoded data removed]",
            "text/plain": [
              "<Figure size 432x288 with 1 Axes>"
            ]
          },
          "metadata": {
            "tags": [],
            "needs_background": "light"
          }
        }
      ]
    },
    {
      "cell_type": "markdown",
      "metadata": {
        "id": "ke9q2rlAKDmn"
      },
      "source": [
        "#### Write Your answer here:"
      ]
    },
    {
      "cell_type": "markdown",
      "metadata": {
        "id": "pjhUp6lSKDmn"
      },
      "source": [
        "1. Alpha is best at 0.01 as shown in graph. \n",
        "2. In Multinomial Naive Bayes, the alpha parameter is what is known as a hyperparameter which controls the form of the model itself. I noticed that when alpha = 0 the accuracy is very very low, (Laplace/Lidstone) smoothing parameter alpha when it's set to zero, it means there's no smoothing hence the low accuracy. \n",
        "Alpha = 10000 is too large, in this case the smoothing parameter influence of observed counts will be lower because estimated probabilities for the same amount of observations will also be lower."
      ]
    },
    {
      "cell_type": "markdown",
      "metadata": {
        "id": "AAWmadvcN3Nt"
      },
      "source": [
        "# **Citation**\n",
        "\n",
        "NaiveBayes understanding:  https://www.math.snu.ac.kr/~hichoi/machinelearning/lecturenotes/NaiveBayes.pdf\n",
        "\n",
        "MLE for NaiveBayes understanding: http://www.cs.columbia.edu/~mcollins/em.pdf\n",
        "\n",
        "Alpha understanding: https://stackoverflow.com/questions/33830959/multinomial-naive-bayes-parameter-alpha-setting-scikit-learn\n",
        "\n",
        "Building MNB: https://stackoverflow.com/questions/60969884/multinomial-naive-bayes-for-python-from-scratch\n",
        "\n",
        "Separate Study Group Conversations: Yuntian Wang, Kevan Loo, Jessica Bojorquez "
      ]
    }
  ]
}